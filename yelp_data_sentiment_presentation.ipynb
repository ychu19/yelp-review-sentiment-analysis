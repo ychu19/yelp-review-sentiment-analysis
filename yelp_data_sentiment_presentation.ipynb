{
  "nbformat": 4,
  "nbformat_minor": 0,
  "metadata": {
    "colab": {
      "name": "yelp_data_sentiment_presentation.ipynb",
      "provenance": [],
      "collapsed_sections": [],
      "mount_file_id": "10WAop0rkx2oaeWUbEf423RfUPFdMPGhV",
      "authorship_tag": "ABX9TyPOh36I1ArS1z67t1GlQ6m0",
      "include_colab_link": true
    },
    "kernelspec": {
      "name": "python3",
      "display_name": "Python 3"
    }
  },
  "cells": [
    {
      "cell_type": "markdown",
      "metadata": {
        "id": "view-in-github",
        "colab_type": "text"
      },
      "source": [
        "<a href=\"https://colab.research.google.com/github/ychu19/yelp-review-sentiment-analysis/blob/main/yelp_data_sentiment_presentation.ipynb\" target=\"_parent\"><img src=\"https://colab.research.google.com/assets/colab-badge.svg\" alt=\"Open In Colab\"/></a>"
      ]
    },
    {
      "cell_type": "code",
      "metadata": {
        "id": "e6Pd4EWv-Whf",
        "outputId": "d45beb51-ee3e-4385-f82f-2d37c76c55f2",
        "colab": {
          "base_uri": "https://localhost:8080/"
        }
      },
      "source": [
        "import numpy as np\n",
        "import pandas as pd\n",
        "import tensorflow as tf\n",
        "import json\n",
        "import re\n",
        "import string\n",
        "import seaborn as sns # for plots\n",
        "import matplotlib.pyplot as plt # for plots\n",
        "\n",
        "from sklearn.model_selection import train_test_split\n",
        "from sklearn.feature_extraction.text import CountVectorizer\n",
        "from sklearn.feature_extraction.text import TfidfTransformer\n",
        "from sklearn.linear_model import LogisticRegression\n",
        "\n",
        "import nltk\n",
        "nltk.download('stopwords')\n",
        "from nltk.corpus import stopwords\n",
        "\n",
        "import tensorflow_hub as hub # for pretrained data\n",
        "import tensorflow_datasets as tfds \n",
        "from tensorflow.keras import layers\n",
        "from tensorflow.keras import losses\n",
        "from tensorflow.keras.layers.experimental.preprocessing import TextVectorization"
      ],
      "execution_count": null,
      "outputs": [
        {
          "output_type": "stream",
          "text": [
            "[nltk_data] Downloading package stopwords to /root/nltk_data...\n",
            "[nltk_data]   Unzipping corpora/stopwords.zip.\n"
          ],
          "name": "stdout"
        }
      ]
    },
    {
      "cell_type": "code",
      "metadata": {
        "id": "l_4dC5TgBirJ"
      },
      "source": [
        "def read_json(file, max_lines):\n",
        "  \"\"\"Read a number of lines of the json file\"\"\"\n",
        "  count = 1\n",
        "  data = []\n",
        "  with open(file, 'r') as f: # 'r' means 'read'; 'w' means 'write\n",
        "    for line in f:\n",
        "      if count <= max_lines:\n",
        "        dict_ = json.loads(line)\n",
        "        dict_['five_stars'] = 1 if dict_['stars'] == 5.0 else 0 # created an one-hot feature for top reviews\n",
        "        data.append(dict_)\n",
        "        count+=1\n",
        "      else:\n",
        "        break\n",
        "  return data"
      ],
      "execution_count": null,
      "outputs": []
    },
    {
      "cell_type": "code",
      "metadata": {
        "id": "RRX4IlzGHc1l"
      },
      "source": [
        "path = \"/content/drive/My Drive/data/yelp_academic_dataset_review.json\"\n",
        "d = read_json(path, 200000)"
      ],
      "execution_count": null,
      "outputs": []
    },
    {
      "cell_type": "code",
      "metadata": {
        "id": "NJOVE1oMHkwl",
        "outputId": "dfa4dac6-9945-4bb1-d0ae-e2bc75569011",
        "colab": {
          "base_uri": "https://localhost:8080/",
          "height": 371
        }
      },
      "source": [
        "dt = pd.DataFrame(d)\n",
        "dt.head()"
      ],
      "execution_count": null,
      "outputs": [
        {
          "output_type": "execute_result",
          "data": {
            "text/html": [
              "<div>\n",
              "<style scoped>\n",
              "    .dataframe tbody tr th:only-of-type {\n",
              "        vertical-align: middle;\n",
              "    }\n",
              "\n",
              "    .dataframe tbody tr th {\n",
              "        vertical-align: top;\n",
              "    }\n",
              "\n",
              "    .dataframe thead th {\n",
              "        text-align: right;\n",
              "    }\n",
              "</style>\n",
              "<table border=\"1\" class=\"dataframe\">\n",
              "  <thead>\n",
              "    <tr style=\"text-align: right;\">\n",
              "      <th></th>\n",
              "      <th>review_id</th>\n",
              "      <th>user_id</th>\n",
              "      <th>business_id</th>\n",
              "      <th>stars</th>\n",
              "      <th>useful</th>\n",
              "      <th>funny</th>\n",
              "      <th>cool</th>\n",
              "      <th>text</th>\n",
              "      <th>date</th>\n",
              "      <th>five_stars</th>\n",
              "    </tr>\n",
              "  </thead>\n",
              "  <tbody>\n",
              "    <tr>\n",
              "      <th>0</th>\n",
              "      <td>xQY8N_XvtGbearJ5X4QryQ</td>\n",
              "      <td>OwjRMXRC0KyPrIlcjaXeFQ</td>\n",
              "      <td>-MhfebM0QIsKt87iDN-FNw</td>\n",
              "      <td>2.0</td>\n",
              "      <td>5</td>\n",
              "      <td>0</td>\n",
              "      <td>0</td>\n",
              "      <td>As someone who has worked with many museums, I...</td>\n",
              "      <td>2015-04-15 05:21:16</td>\n",
              "      <td>0</td>\n",
              "    </tr>\n",
              "    <tr>\n",
              "      <th>1</th>\n",
              "      <td>UmFMZ8PyXZTY2QcwzsfQYA</td>\n",
              "      <td>nIJD_7ZXHq-FX8byPMOkMQ</td>\n",
              "      <td>lbrU8StCq3yDfr-QMnGrmQ</td>\n",
              "      <td>1.0</td>\n",
              "      <td>1</td>\n",
              "      <td>1</td>\n",
              "      <td>0</td>\n",
              "      <td>I am actually horrified this place is still in...</td>\n",
              "      <td>2013-12-07 03:16:52</td>\n",
              "      <td>0</td>\n",
              "    </tr>\n",
              "    <tr>\n",
              "      <th>2</th>\n",
              "      <td>LG2ZaYiOgpr2DK_90pYjNw</td>\n",
              "      <td>V34qejxNsCbcgD8C0HVk-Q</td>\n",
              "      <td>HQl28KMwrEKHqhFrrDqVNQ</td>\n",
              "      <td>5.0</td>\n",
              "      <td>1</td>\n",
              "      <td>0</td>\n",
              "      <td>0</td>\n",
              "      <td>I love Deagan's. I do. I really do. The atmosp...</td>\n",
              "      <td>2015-12-05 03:18:11</td>\n",
              "      <td>1</td>\n",
              "    </tr>\n",
              "    <tr>\n",
              "      <th>3</th>\n",
              "      <td>i6g_oA9Yf9Y31qt0wibXpw</td>\n",
              "      <td>ofKDkJKXSKZXu5xJNGiiBQ</td>\n",
              "      <td>5JxlZaqCnk1MnbgRirs40Q</td>\n",
              "      <td>1.0</td>\n",
              "      <td>0</td>\n",
              "      <td>0</td>\n",
              "      <td>0</td>\n",
              "      <td>Dismal, lukewarm, defrosted-tasting \"TexMex\" g...</td>\n",
              "      <td>2011-05-27 05:30:52</td>\n",
              "      <td>0</td>\n",
              "    </tr>\n",
              "    <tr>\n",
              "      <th>4</th>\n",
              "      <td>6TdNDKywdbjoTkizeMce8A</td>\n",
              "      <td>UgMW8bLE0QMJDCkQ1Ax5Mg</td>\n",
              "      <td>IS4cv902ykd8wj1TR0N3-A</td>\n",
              "      <td>4.0</td>\n",
              "      <td>0</td>\n",
              "      <td>0</td>\n",
              "      <td>0</td>\n",
              "      <td>Oh happy day, finally have a Canes near my cas...</td>\n",
              "      <td>2017-01-14 21:56:57</td>\n",
              "      <td>0</td>\n",
              "    </tr>\n",
              "  </tbody>\n",
              "</table>\n",
              "</div>"
            ],
            "text/plain": [
              "                review_id  ... five_stars\n",
              "0  xQY8N_XvtGbearJ5X4QryQ  ...          0\n",
              "1  UmFMZ8PyXZTY2QcwzsfQYA  ...          0\n",
              "2  LG2ZaYiOgpr2DK_90pYjNw  ...          1\n",
              "3  i6g_oA9Yf9Y31qt0wibXpw  ...          0\n",
              "4  6TdNDKywdbjoTkizeMce8A  ...          0\n",
              "\n",
              "[5 rows x 10 columns]"
            ]
          },
          "metadata": {
            "tags": []
          },
          "execution_count": 4
        }
      ]
    },
    {
      "cell_type": "code",
      "metadata": {
        "id": "TZzIXNYhJNaC",
        "outputId": "766bd0a9-1693-488f-cad3-4a0bb6673bfd",
        "colab": {
          "base_uri": "https://localhost:8080/"
        }
      },
      "source": [
        "dt.groupby([\"stars\"])[\"stars\"].count()"
      ],
      "execution_count": null,
      "outputs": [
        {
          "output_type": "execute_result",
          "data": {
            "text/plain": [
              "stars\n",
              "1.0    27567\n",
              "2.0    16501\n",
              "3.0    22322\n",
              "4.0    45562\n",
              "5.0    88048\n",
              "Name: stars, dtype: int64"
            ]
          },
          "metadata": {
            "tags": []
          },
          "execution_count": 5
        }
      ]
    },
    {
      "cell_type": "code",
      "metadata": {
        "id": "4kath8a6L7Y2",
        "outputId": "418899d8-e695-44dc-fcdf-66bc1b66c79e",
        "colab": {
          "base_uri": "https://localhost:8080/",
          "height": 228
        }
      },
      "source": [
        "stars_tab = pd.crosstab(index=dt[\"stars\"],\n",
        "                        columns=\"count\")\n",
        "stars_tab/stars_tab.sum()"
      ],
      "execution_count": null,
      "outputs": [
        {
          "output_type": "execute_result",
          "data": {
            "text/html": [
              "<div>\n",
              "<style scoped>\n",
              "    .dataframe tbody tr th:only-of-type {\n",
              "        vertical-align: middle;\n",
              "    }\n",
              "\n",
              "    .dataframe tbody tr th {\n",
              "        vertical-align: top;\n",
              "    }\n",
              "\n",
              "    .dataframe thead th {\n",
              "        text-align: right;\n",
              "    }\n",
              "</style>\n",
              "<table border=\"1\" class=\"dataframe\">\n",
              "  <thead>\n",
              "    <tr style=\"text-align: right;\">\n",
              "      <th>col_0</th>\n",
              "      <th>count</th>\n",
              "    </tr>\n",
              "    <tr>\n",
              "      <th>stars</th>\n",
              "      <th></th>\n",
              "    </tr>\n",
              "  </thead>\n",
              "  <tbody>\n",
              "    <tr>\n",
              "      <th>1.0</th>\n",
              "      <td>0.137835</td>\n",
              "    </tr>\n",
              "    <tr>\n",
              "      <th>2.0</th>\n",
              "      <td>0.082505</td>\n",
              "    </tr>\n",
              "    <tr>\n",
              "      <th>3.0</th>\n",
              "      <td>0.111610</td>\n",
              "    </tr>\n",
              "    <tr>\n",
              "      <th>4.0</th>\n",
              "      <td>0.227810</td>\n",
              "    </tr>\n",
              "    <tr>\n",
              "      <th>5.0</th>\n",
              "      <td>0.440240</td>\n",
              "    </tr>\n",
              "  </tbody>\n",
              "</table>\n",
              "</div>"
            ],
            "text/plain": [
              "col_0     count\n",
              "stars          \n",
              "1.0    0.137835\n",
              "2.0    0.082505\n",
              "3.0    0.111610\n",
              "4.0    0.227810\n",
              "5.0    0.440240"
            ]
          },
          "metadata": {
            "tags": []
          },
          "execution_count": 6
        }
      ]
    },
    {
      "cell_type": "code",
      "metadata": {
        "id": "uLL9zBfqLjIi",
        "outputId": "af0796cc-19f1-47c1-b291-f88a96d2d250",
        "colab": {
          "base_uri": "https://localhost:8080/",
          "height": 351
        }
      },
      "source": [
        "filter_data = dt.dropna(subset=['stars'])\n",
        "plt.figure(figsize=(7,4))\n",
        "sns.countplot(filter_data['stars'])\n",
        "# plt.savefig('imbalanced_reviews.jpeg')"
      ],
      "execution_count": null,
      "outputs": [
        {
          "output_type": "stream",
          "text": [
            "/usr/local/lib/python3.6/dist-packages/seaborn/_decorators.py:43: FutureWarning: Pass the following variable as a keyword arg: x. From version 0.12, the only valid positional argument will be `data`, and passing other arguments without an explicit keyword will result in an error or misinterpretation.\n",
            "  FutureWarning\n"
          ],
          "name": "stderr"
        },
        {
          "output_type": "execute_result",
          "data": {
            "text/plain": [
              "<matplotlib.axes._subplots.AxesSubplot at 0x7f8dbc723860>"
            ]
          },
          "metadata": {
            "tags": []
          },
          "execution_count": 7
        },
        {
          "output_type": "display_data",
          "data": {
            "image/png": "[encoded data removed]",
            "text/plain": [
              "<Figure size 504x288 with 1 Axes>"
            ]
          },
          "metadata": {
            "tags": [],
            "needs_background": "light"
          }
        }
      ]
    },
    {
      "cell_type": "code",
      "metadata": {
        "id": "3Dolvwo0N63Q"
      },
      "source": [
        "new_n = len(dt[dt['stars']==2.0]) # 8186 # 16501\n",
        "Y_1 = dt[dt['stars']==1.0].sample(n=new_n, random_state=0)\n",
        "Y_2 = dt[dt['stars']==2.0].sample(n=new_n, random_state=0) \n",
        "Y_3 = dt[dt['stars']==3.0].sample(n=new_n, random_state=0)\n",
        "Y_4 = dt[dt['stars']==4.0].sample(n=new_n, random_state=0)\n",
        "Y_5 = dt[dt['stars']==5.0].sample(n=new_n, random_state=0)"
      ],
      "execution_count": null,
      "outputs": []
    },
    {
      "cell_type": "code",
      "metadata": {
        "id": "RpqJuUwJVpV1",
        "outputId": "f218e8c2-4ec2-41e1-ef09-acbcfdd0052a",
        "colab": {
          "base_uri": "https://localhost:8080/",
          "height": 371
        }
      },
      "source": [
        "rows = [Y_1, Y_2, Y_3, Y_4, Y_5]\n",
        "dt = pd.concat(rows).sample(frac=1)\n",
        "dt.head()"
      ],
      "execution_count": null,
      "outputs": [
        {
          "output_type": "execute_result",
          "data": {
            "text/html": [
              "<div>\n",
              "<style scoped>\n",
              "    .dataframe tbody tr th:only-of-type {\n",
              "        vertical-align: middle;\n",
              "    }\n",
              "\n",
              "    .dataframe tbody tr th {\n",
              "        vertical-align: top;\n",
              "    }\n",
              "\n",
              "    .dataframe thead th {\n",
              "        text-align: right;\n",
              "    }\n",
              "</style>\n",
              "<table border=\"1\" class=\"dataframe\">\n",
              "  <thead>\n",
              "    <tr style=\"text-align: right;\">\n",
              "      <th></th>\n",
              "      <th>review_id</th>\n",
              "      <th>user_id</th>\n",
              "      <th>business_id</th>\n",
              "      <th>stars</th>\n",
              "      <th>useful</th>\n",
              "      <th>funny</th>\n",
              "      <th>cool</th>\n",
              "      <th>text</th>\n",
              "      <th>date</th>\n",
              "      <th>five_stars</th>\n",
              "    </tr>\n",
              "  </thead>\n",
              "  <tbody>\n",
              "    <tr>\n",
              "      <th>13422</th>\n",
              "      <td>tUhqF9AlcFRjr5cZC8AreQ</td>\n",
              "      <td>BRAuNgJGolSgAEgVZLedGw</td>\n",
              "      <td>surU3O61Ik5CQ_8fbHgdGQ</td>\n",
              "      <td>4.0</td>\n",
              "      <td>0</td>\n",
              "      <td>0</td>\n",
              "      <td>0</td>\n",
              "      <td>I had Trish. She did a gel manicure for me. Un...</td>\n",
              "      <td>2015-08-30 22:55:55</td>\n",
              "      <td>0</td>\n",
              "    </tr>\n",
              "    <tr>\n",
              "      <th>143998</th>\n",
              "      <td>uaRqbd7jY9erwOzxFlCrpQ</td>\n",
              "      <td>kn5pJIE5i-oujc_lyJB5BQ</td>\n",
              "      <td>qiJq8NukhBxAHAE57bnrxw</td>\n",
              "      <td>1.0</td>\n",
              "      <td>11</td>\n",
              "      <td>0</td>\n",
              "      <td>0</td>\n",
              "      <td>The experience at the very beginning should ha...</td>\n",
              "      <td>2016-08-08 03:54:08</td>\n",
              "      <td>0</td>\n",
              "    </tr>\n",
              "    <tr>\n",
              "      <th>82596</th>\n",
              "      <td>XF1zNk-X00G197vtpdwGpQ</td>\n",
              "      <td>ySOWHay3yeaadfuXOuagMg</td>\n",
              "      <td>hDJZh2TD9f-TVEVun75IJg</td>\n",
              "      <td>4.0</td>\n",
              "      <td>1</td>\n",
              "      <td>0</td>\n",
              "      <td>0</td>\n",
              "      <td>Great Patio and relaxing place to have lunch. ...</td>\n",
              "      <td>2014-02-08 19:28:47</td>\n",
              "      <td>0</td>\n",
              "    </tr>\n",
              "    <tr>\n",
              "      <th>119952</th>\n",
              "      <td>-Z8uacxHLtF6XI8puuEXCg</td>\n",
              "      <td>9peRQNqhd_uqt-Rh83zwjw</td>\n",
              "      <td>sAmmv3ffj99CN85Wj0zF3A</td>\n",
              "      <td>2.0</td>\n",
              "      <td>0</td>\n",
              "      <td>0</td>\n",
              "      <td>0</td>\n",
              "      <td>Went in last week for a manicure. The place wa...</td>\n",
              "      <td>2017-06-09 20:11:31</td>\n",
              "      <td>0</td>\n",
              "    </tr>\n",
              "    <tr>\n",
              "      <th>72658</th>\n",
              "      <td>O4fhs-tTAsQt7TXTFz29HQ</td>\n",
              "      <td>z3WHx5PVY6BglO4d6Uo9Ww</td>\n",
              "      <td>bzWo5eA5zZjktINg8DdAjw</td>\n",
              "      <td>2.0</td>\n",
              "      <td>2</td>\n",
              "      <td>0</td>\n",
              "      <td>0</td>\n",
              "      <td>O-VER-RA-TED.\\n\\nIt is pretty bad ass that I c...</td>\n",
              "      <td>2008-08-30 20:30:50</td>\n",
              "      <td>0</td>\n",
              "    </tr>\n",
              "  </tbody>\n",
              "</table>\n",
              "</div>"
            ],
            "text/plain": [
              "                     review_id  ... five_stars\n",
              "13422   tUhqF9AlcFRjr5cZC8AreQ  ...          0\n",
              "143998  uaRqbd7jY9erwOzxFlCrpQ  ...          0\n",
              "82596   XF1zNk-X00G197vtpdwGpQ  ...          0\n",
              "119952  -Z8uacxHLtF6XI8puuEXCg  ...          0\n",
              "72658   O4fhs-tTAsQt7TXTFz29HQ  ...          0\n",
              "\n",
              "[5 rows x 10 columns]"
            ]
          },
          "metadata": {
            "tags": []
          },
          "execution_count": 9
        }
      ]
    },
    {
      "cell_type": "code",
      "metadata": {
        "id": "59VsYHcSXg3M",
        "outputId": "1c6286d2-5728-414c-8097-767ec8cfb003",
        "colab": {
          "base_uri": "https://localhost:8080/",
          "height": 351
        }
      },
      "source": [
        "plt.figure(figsize=(7,4))\n",
        "sns.countplot(dt['stars'])\n",
        "# plt.savefig('adjusted_samples.jpeg')"
      ],
      "execution_count": null,
      "outputs": [
        {
          "output_type": "stream",
          "text": [
            "/usr/local/lib/python3.6/dist-packages/seaborn/_decorators.py:43: FutureWarning: Pass the following variable as a keyword arg: x. From version 0.12, the only valid positional argument will be `data`, and passing other arguments without an explicit keyword will result in an error or misinterpretation.\n",
            "  FutureWarning\n"
          ],
          "name": "stderr"
        },
        {
          "output_type": "execute_result",
          "data": {
            "text/plain": [
              "<matplotlib.axes._subplots.AxesSubplot at 0x7f8dbaf5c828>"
            ]
          },
          "metadata": {
            "tags": []
          },
          "execution_count": 11
        },
        {
          "output_type": "display_data",
          "data": {
            "image/png": "[encoded data removed]",
            "text/plain": [
              "<Figure size 504x288 with 1 Axes>"
            ]
          },
          "metadata": {
            "tags": [],
            "needs_background": "light"
          }
        }
      ]
    },
    {
      "cell_type": "markdown",
      "metadata": {
        "id": "gIy6OqPgrhuM"
      },
      "source": [
        "## Logistic Regression with `sklearn`"
      ]
    },
    {
      "cell_type": "code",
      "metadata": {
        "id": "JvTILQPlrhKx"
      },
      "source": [
        "## shuffle split with vectorization\n",
        "from sklearn.model_selection import train_test_split\n",
        "from sklearn.feature_extraction.text import CountVectorizer\n",
        "from sklearn.feature_extraction.text import TfidfTransformer\n",
        "from sklearn.linear_model import LogisticRegression\n",
        "\n",
        "def cross_val_logit(X, Y, multi_class):\n",
        "  \"\"\"\n",
        "  1. split training and test sets with train_test_split()\n",
        "  2. pre-process the review texts with CountVectorizer() and fit_transform the training set\n",
        "  3. transform the test vector \n",
        "  4. transform with tf-idf\n",
        "  5. apply logistic regression, with the option to have multinomial logit (for binary logit use \"auto\")\n",
        "  6. return a accuracy score with the test set\n",
        "  \"\"\"\n",
        "  train_X, test_X, train_Y, test_Y = train_test_split(\n",
        "      X, Y, test_size = 0.33)\n",
        "  count_vect = CountVectorizer(stop_words='english',max_df=0.85)\n",
        "  train_vect = count_vect.fit_transform(train_X)\n",
        "  test_vect = count_vect.transform(test_X)\n",
        "\n",
        "  train_tf_transformer = TfidfTransformer(use_idf=True).fit(train_vect)\n",
        "  train_tf = train_tf_transformer.transform(train_vect)\n",
        "\n",
        "  test_tf = train_tf_transformer.transform(test_vect)\n",
        "\n",
        "  log_reg = LogisticRegression(multi_class=multi_class, solver='lbfgs', max_iter=400)\n",
        "  # lbfgs stand for: \"Limited-memory Broyden–Fletcher–Goldfarb–Shanno Algorithm\"\n",
        "  # default max_iter = 100 --> returns error code saying that it couldn't converge \n",
        "  log_reg.fit(train_tf, train_Y)\n",
        "\n",
        "  return log_reg.score(test_tf, test_Y)"
      ],
      "execution_count": null,
      "outputs": []
    },
    {
      "cell_type": "code",
      "metadata": {
        "id": "7HazWth6rqnN",
        "outputId": "0974653c-1a04-42da-885a-0662631bddb3",
        "colab": {
          "base_uri": "https://localhost:8080/"
        }
      },
      "source": [
        "cross_val_logit(dt.text, dt.five_stars, \"auto\")"
      ],
      "execution_count": null,
      "outputs": [
        {
          "output_type": "execute_result",
          "data": {
            "text/plain": [
              "0.875785066294487"
            ]
          },
          "metadata": {
            "tags": []
          },
          "execution_count": 13
        }
      ]
    },
    {
      "cell_type": "code",
      "metadata": {
        "id": "w57jxHmTrte6",
        "outputId": "d13f8418-cbcb-46ab-8e44-18b61ed270df",
        "colab": {
          "base_uri": "https://localhost:8080/"
        }
      },
      "source": [
        "cross_val_logit(dt.text, dt.five_stars, \"auto\")"
      ],
      "execution_count": null,
      "outputs": [
        {
          "output_type": "execute_result",
          "data": {
            "text/plain": [
              "0.8769970984684321"
            ]
          },
          "metadata": {
            "tags": []
          },
          "execution_count": 14
        }
      ]
    },
    {
      "cell_type": "code",
      "metadata": {
        "id": "9MED4ht2rtlH",
        "outputId": "c55b6642-8230-40ce-9e7a-e62b3cd92d0c",
        "colab": {
          "base_uri": "https://localhost:8080/"
        }
      },
      "source": [
        "cross_val_logit(dt.text, dt.five_stars, \"auto\")"
      ],
      "execution_count": null,
      "outputs": [
        {
          "output_type": "execute_result",
          "data": {
            "text/plain": [
              "0.8770705549638227"
            ]
          },
          "metadata": {
            "tags": []
          },
          "execution_count": 15
        }
      ]
    },
    {
      "cell_type": "code",
      "metadata": {
        "id": "X4FDd2H9rtiK",
        "outputId": "74b3375e-64f6-45e7-e58c-8133f577f8de",
        "colab": {
          "base_uri": "https://localhost:8080/"
        }
      },
      "source": [
        "cross_val_logit(dt.text, dt.five_stars, \"auto\")"
      ],
      "execution_count": null,
      "outputs": [
        {
          "output_type": "execute_result",
          "data": {
            "text/plain": [
              "0.8750872295882763"
            ]
          },
          "metadata": {
            "tags": []
          },
          "execution_count": 16
        }
      ]
    },
    {
      "cell_type": "code",
      "metadata": {
        "id": "rERNl7PQrtT3",
        "outputId": "61f9fc6c-4280-40d5-82d4-69202b50d9b3",
        "colab": {
          "base_uri": "https://localhost:8080/"
        }
      },
      "source": [
        "cross_val_logit(dt.text, dt.five_stars, \"auto\")"
      ],
      "execution_count": null,
      "outputs": [
        {
          "output_type": "execute_result",
          "data": {
            "text/plain": [
              "0.8783560436331582"
            ]
          },
          "metadata": {
            "tags": []
          },
          "execution_count": 17
        }
      ]
    },
    {
      "cell_type": "markdown",
      "metadata": {
        "id": "00S1K_vCrvCD"
      },
      "source": [
        "## ANN with `TensorFlow`"
      ]
    },
    {
      "cell_type": "markdown",
      "metadata": {
        "id": "2g7jLZyjryM6"
      },
      "source": [
        "### Pre-process the text data"
      ]
    },
    {
      "cell_type": "code",
      "metadata": {
        "id": "s0-za9LSH6PZ"
      },
      "source": [
        "## remove stopwords\n",
        "\n",
        "stops=\" | \".join(set(stopwords.words(\"english\")))\n",
        "stops = '(?:' + stops + ')'\n",
        "\n",
        "def custom_standardization(input_data):\n",
        "  \"\"\"\n",
        "  1. make the texts lowercase\n",
        "  2. remove periods\n",
        "  3. remove stopwords\n",
        "  4. remove double white space\n",
        "  5. remove 's\n",
        "  \"\"\"\n",
        "  lowercase = tf.strings.lower(input_data)\n",
        "  no_periods = tf.strings.regex_replace(lowercase, '\\.', '') # remove periods\n",
        "  no_stop_words = tf.strings.regex_replace(no_periods, stops, ' ')\n",
        "  cleaned_double_spaces = tf.strings.regex_replace(no_stop_words, '  ', ' ')\n",
        "  cleaned_data = tf.strings.regex_replace(cleaned_double_spaces, '[%s]' % re.escape(string.punctuation),'')\n",
        "  return cleaned_data"
      ],
      "execution_count": null,
      "outputs": []
    },
    {
      "cell_type": "code",
      "metadata": {
        "id": "zLrxX_iC42ju"
      },
      "source": [
        "dt.text = custom_standardization(dt.text)"
      ],
      "execution_count": null,
      "outputs": []
    },
    {
      "cell_type": "markdown",
      "metadata": {
        "id": "Ug2b93Y_r1Zk"
      },
      "source": [
        "### Split training, validation, and test data"
      ]
    },
    {
      "cell_type": "code",
      "metadata": {
        "id": "xDlYzxTxrMtE"
      },
      "source": [
        "## separate training, validation, and test data \n",
        "\n",
        "def train_val_test(X, Y, random_state):\n",
        "  \"\"\"\n",
        "  Split dataset into training, validation, and test sets:\n",
        "  Step 1: Split training and test sets\n",
        "  Step 2: Sample rows from the training set for the validation set \n",
        "  Returns train_X, train_Y, val_X, val_Y, test_X, test_Y\n",
        "  \"\"\"\n",
        "  X = X.to_numpy()\n",
        "  train_X, test_X, train_Y, test_Y = train_test_split(\n",
        "      X, Y, test_size = 0.33, random_state = random_state\n",
        "  )\n",
        "  train_X, val_X, train_Y, val_Y = train_test_split(\n",
        "      train_X, train_Y, test_size = 0.2, random_state = random_state\n",
        "  )\n",
        "\n",
        "  return train_X, train_Y, val_X, val_Y, test_X, test_Y\n",
        "\n",
        "train_X, train_Y, val_X, val_Y, test_X, test_Y = train_val_test(dt.text, dt.five_stars, 4)"
      ],
      "execution_count": null,
      "outputs": []
    },
    {
      "cell_type": "markdown",
      "metadata": {
        "id": "mt7vdVbt-3aq"
      },
      "source": [
        "### Use the pre-trained embedding from `hub`"
      ]
    },
    {
      "cell_type": "code",
      "metadata": {
        "id": "nXBhZayb-27g"
      },
      "source": [
        "embedding_pretrained = \"https://tfhub.dev/google/nnlm-en-dim50/2\"\n",
        "hub_layer=hub.KerasLayer(embedding_pretrained, input_shape = [],\n",
        "                         dtype=tf.string, trainable=True)"
      ],
      "execution_count": null,
      "outputs": []
    },
    {
      "cell_type": "code",
      "metadata": {
        "id": "n7ZJJisOoD9I",
        "outputId": "f1d14c19-ff8c-4d3b-c275-4cb702a5f78d",
        "colab": {
          "base_uri": "https://localhost:8080/"
        }
      },
      "source": [
        "hub_layer([train_X[0]])"
      ],
      "execution_count": null,
      "outputs": [
        {
          "output_type": "execute_result",
          "data": {
            "text/plain": [
              "<tf.Tensor: shape=(1, 50), dtype=float32, numpy=\n",
              "array([[ 0.42034665, -0.342544  , -0.08545388,  0.10272005, -0.14290535,\n",
              "        -0.07105406,  0.36032107,  0.11547501, -0.2942254 ,  0.34731045,\n",
              "         0.20038034,  0.2247732 ,  0.11733465,  0.20789732, -0.30662125,\n",
              "        -0.15826738, -0.13545187,  0.3926795 ,  0.03041909, -0.19296773,\n",
              "        -0.05336305, -0.29942262, -0.13122743,  0.19386819, -0.16842212,\n",
              "         0.04101687, -0.350889  , -0.0814321 ,  0.21683893,  0.1433156 ,\n",
              "        -0.06198009,  0.2780368 ,  0.28872767, -0.42891008,  0.1032379 ,\n",
              "         0.23199621, -0.11754638,  0.09818706,  0.12397266, -0.27283725,\n",
              "         0.14140116, -0.07294545,  0.1966368 ,  0.0215362 , -0.34794047,\n",
              "         0.10982995, -0.11843537,  0.0687242 ,  0.00988145,  0.04476667]],\n",
              "      dtype=float32)>"
            ]
          },
          "metadata": {
            "tags": []
          },
          "execution_count": 22
        }
      ]
    },
    {
      "cell_type": "markdown",
      "metadata": {
        "id": "2zCwNWvY2ZsN"
      },
      "source": [
        "### Build the model"
      ]
    },
    {
      "cell_type": "code",
      "metadata": {
        "id": "WwYweQ-V4J9R",
        "outputId": "852867de-7dee-40b7-f2a7-fee6ea62e7a3",
        "colab": {
          "base_uri": "https://localhost:8080/"
        }
      },
      "source": [
        "def add_layers(model, iteration, neurons, activation, regularizer, initializer, dropout):\n",
        "  \"\"\"create multiple hidden layers with dropouts\"\"\"\n",
        "  for i in range(iteration+1):\n",
        "    model.add(tf.keras.layers.Dense(neurons, activation=activation, kernel_regularizer=regularizer, kernel_initializer=initializer))\n",
        "    model.add(tf.keras.layers.Dropout(dropout))\n",
        "\n",
        "l2_reg = tf.keras.regularizers.L2(l2=0.01)\n",
        "dropout = 0.01\n",
        "\n",
        "model = tf.keras.Sequential()\n",
        "model.add(hub_layer)\n",
        "add_layers(model, iteration=3, neurons=50, activation='elu', regularizer=None, initializer='he_normal', dropout=dropout)\n",
        "model.add(layers.Dense(1,activation='sigmoid'))\n",
        "\n",
        "model.summary()"
      ],
      "execution_count": null,
      "outputs": [
        {
          "output_type": "stream",
          "text": [
            "Model: \"sequential_7\"\n",
            "_________________________________________________________________\n",
            "Layer (type)                 Output Shape              Param #   \n",
            "=================================================================\n",
            "keras_layer (KerasLayer)     (None, 50)                48190600  \n",
            "_________________________________________________________________\n",
            "dense_33 (Dense)             (None, 50)                2550      \n",
            "_________________________________________________________________\n",
            "dropout_26 (Dropout)         (None, 50)                0         \n",
            "_________________________________________________________________\n",
            "dense_34 (Dense)             (None, 50)                2550      \n",
            "_________________________________________________________________\n",
            "dropout_27 (Dropout)         (None, 50)                0         \n",
            "_________________________________________________________________\n",
            "dense_35 (Dense)             (None, 50)                2550      \n",
            "_________________________________________________________________\n",
            "dropout_28 (Dropout)         (None, 50)                0         \n",
            "_________________________________________________________________\n",
            "dense_36 (Dense)             (None, 50)                2550      \n",
            "_________________________________________________________________\n",
            "dropout_29 (Dropout)         (None, 50)                0         \n",
            "_________________________________________________________________\n",
            "dense_37 (Dense)             (None, 1)                 51        \n",
            "=================================================================\n",
            "Total params: 48,200,851\n",
            "Trainable params: 48,200,851\n",
            "Non-trainable params: 0\n",
            "_________________________________________________________________\n"
          ],
          "name": "stdout"
        }
      ]
    },
    {
      "cell_type": "code",
      "metadata": {
        "id": "tGwbk9OAlz0y"
      },
      "source": [
        "loss_ = tf.keras.losses.BinaryCrossentropy(from_logits=True)\n",
        "metrics_ = tf.keras.metrics.BinaryAccuracy()\n",
        "opt = tf.keras.optimizers.Adam(learning_rate=0.01)\n",
        "\n",
        "model.compile(loss = loss_,\n",
        "              optimizer=opt, # change learning rate here!\n",
        "              metrics=['accuracy'])\n",
        "\n",
        "model.save_weights('five_stars')"
      ],
      "execution_count": null,
      "outputs": []
    },
    {
      "cell_type": "code",
      "metadata": {
        "id": "YKfe_fWYmCJ3",
        "outputId": "990e8ec9-d37c-492e-f072-6070cc049e45",
        "colab": {
          "base_uri": "https://localhost:8080/"
        }
      },
      "source": [
        "model.load_weights('five_stars')\n",
        "\n",
        "earlystop = tf.keras.callbacks.EarlyStopping(monitor='val_accuracy', mode='max', patience=3)\n",
        "epochs = 15\n",
        "history = model.fit(\n",
        "    train_X, train_Y,\n",
        "    validation_data=(val_X,val_Y),\n",
        "    batch_size=200,\n",
        "    epochs = epochs,\n",
        "    callbacks=[earlystop])"
      ],
      "execution_count": null,
      "outputs": [
        {
          "output_type": "stream",
          "text": [
            "Epoch 1/15\n",
            "222/222 [==============================] - 106s 478ms/step - loss: 0.6921 - accuracy: 0.8077 - val_loss: 0.6843 - val_accuracy: 0.8312\n",
            "Epoch 2/15\n",
            "222/222 [==============================] - 105s 474ms/step - loss: 0.6828 - accuracy: 0.8384 - val_loss: 0.6942 - val_accuracy: 0.8424\n",
            "Epoch 3/15\n",
            "222/222 [==============================] - 105s 471ms/step - loss: 0.6819 - accuracy: 0.8436 - val_loss: 0.6823 - val_accuracy: 0.8425\n",
            "Epoch 4/15\n",
            "222/222 [==============================] - 105s 472ms/step - loss: 0.6816 - accuracy: 0.8497 - val_loss: 0.6843 - val_accuracy: 0.8298\n",
            "Epoch 5/15\n",
            "222/222 [==============================] - 105s 475ms/step - loss: 0.6809 - accuracy: 0.8470 - val_loss: 0.6844 - val_accuracy: 0.8300\n",
            "Epoch 6/15\n",
            "222/222 [==============================] - 105s 472ms/step - loss: 0.6812 - accuracy: 0.8431 - val_loss: 0.6834 - val_accuracy: 0.8372\n"
          ],
          "name": "stdout"
        }
      ]
    },
    {
      "cell_type": "markdown",
      "metadata": {
        "id": "f218sxtQ4HL5"
      },
      "source": [
        "### Evaluating the Model with Test Set"
      ]
    },
    {
      "cell_type": "code",
      "metadata": {
        "id": "waS8FgQJ_Bex",
        "outputId": "704d9788-55f0-442b-e8a6-33cb522beb12",
        "colab": {
          "base_uri": "https://localhost:8080/"
        }
      },
      "source": [
        "results = model.evaluate(test_X, test_Y, verbose=2)\n",
        "\n",
        "for name, value in zip(model.metrics_names, results):\n",
        "  print(\"%s: %.3f\" % (name, value))"
      ],
      "execution_count": null,
      "outputs": [
        {
          "output_type": "stream",
          "text": [
            "851/851 - 1s - loss: 0.6824 - accuracy: 0.8387\n",
            "loss: 0.682\n",
            "accuracy: 0.839\n"
          ],
          "name": "stdout"
        }
      ]
    }
  ]
}